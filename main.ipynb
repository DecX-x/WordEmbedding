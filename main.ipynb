{
 "cells": [
  {
   "cell_type": "markdown",
   "metadata": {},
   "source": [
    "Create Word Embedding using pytorch ligthning"
   ]
  },
  {
   "cell_type": "markdown",
   "metadata": {},
   "source": [
    "Import\n"
   ]
  },
  {
   "cell_type": "code",
   "execution_count": 1,
   "metadata": {},
   "outputs": [
    {
     "name": "stderr",
     "output_type": "stream",
     "text": [
      "c:\\Users\\AezersX\\anaconda3\\envs\\pytorch\\lib\\site-packages\\torchaudio\\backend\\utils.py:74: UserWarning: No audio backend is available.\n",
      "  warnings.warn(\"No audio backend is available.\")\n"
     ]
    }
   ],
   "source": [
    "import torch\n",
    "import torch.nn as nn\n",
    "\n",
    "from torch.optim import Adam\n",
    "from torch.distributions.uniform import Uniform\n",
    "from torch.utils.data import TensorDataset, DataLoader\n",
    "\n",
    "import lightning as l\n",
    "\n",
    "import pandas as pd\n",
    "import matplotlib as plt\n",
    "import seaborn as sns"
   ]
  },
  {
   "cell_type": "markdown",
   "metadata": {},
   "source": [
    "train data EXAMPLE:\n",
    "RDR2 IS GREAT!,\n",
    "GTA5 IS GREAT!"
   ]
  },
  {
   "cell_type": "code",
   "execution_count": 2,
   "metadata": {},
   "outputs": [],
   "source": [
    "inputs = torch.tensor([[1.,0.,0.,0.],\n",
    "                       [0.,1.,0.,0.],\n",
    "                       [0.,0.,1.,0.],\n",
    "                       [0.,0.,0.,1.],\n",
    "                       ])\n",
    "labels = torch.tensor([\n",
    "                        [0.,1.,0.,0.],\n",
    "                        [0.,0.,1.,0.],\n",
    "                        [0.,0.,0.,1.],\n",
    "                        [0.,1.,0.,0.]]) \n",
    "dataset = TensorDataset(inputs, labels)\n",
    "dataloader = DataLoader(dataset)"
   ]
  },
  {
   "cell_type": "markdown",
   "metadata": {},
   "source": [
    "create Word Embedding Network"
   ]
  },
  {
   "cell_type": "code",
   "execution_count": 3,
   "metadata": {},
   "outputs": [],
   "source": [
    "class WordEmbedding(l.LightningModule):\n",
    "    def __init__(self):\n",
    "        super().__init__()\n",
    "        min_val = -0.5\n",
    "        max_val = 0.5\n",
    "        self.input1_w1 = nn.Parameter(Uniform(min_val, max_val).sample())\n",
    "        self.input1_w2 = nn.Parameter(Uniform(min_val, max_val).sample())\n",
    "        self.input2_w1 = nn.Parameter(Uniform(min_val, max_val).sample())\n",
    "        self.input2_w2 = nn.Parameter(Uniform(min_val, max_val).sample())\n",
    "        self.input3_w1 = nn.Parameter(Uniform(min_val, max_val).sample())\n",
    "        self.input3_w2 = nn.Parameter(Uniform(min_val, max_val).sample())\n",
    "        self.input4_w1 = nn.Parameter(Uniform(min_val, max_val).sample())\n",
    "        self.input4_w2 = nn.Parameter(Uniform(min_val, max_val).sample())\n",
    "\n",
    "        self.output1_w1 = nn.Parameter(Uniform(min_val, max_val).sample())\n",
    "        self.output1_w2 = nn.Parameter(Uniform(min_val, max_val).sample())\n",
    "        self.output2_w1 = nn.Parameter(Uniform(min_val, max_val).sample())\n",
    "        self.output2_w2 = nn.Parameter(Uniform(min_val, max_val).sample())\n",
    "        self.output3_w1 = nn.Parameter(Uniform(min_val, max_val).sample())\n",
    "        self.output3_w2 = nn.Parameter(Uniform(min_val, max_val).sample())\n",
    "        self.output4_w1 = nn.Parameter(Uniform(min_val, max_val).sample())\n",
    "        self.output4_w2 = nn.Parameter(Uniform(min_val, max_val).sample())\n",
    "\n",
    "        self.loss = nn.CrossEntropyLoss()\n",
    "    def forward(self, input):\n",
    "        input = input[0]\n",
    "        inputs_to_top_hidden = ((input[0] * self.input1_w1) +\n",
    "                                (input[1] * self.input2_w1) +\n",
    "                                (input[2] * self.input3_w1) +\n",
    "                                (input[3] * self.input4_w1))\n",
    "        inputs_to_bottom_hidden = ((input[0] * self.input1_w2) +\n",
    "                                   (input[1] * self.input2_w2) +\n",
    "                                   (input[2] * self.input3_w2) +\n",
    "                                   (input[3] * self.input4_w2))\n",
    "        output1 = ((inputs_to_top_hidden * self.output1_w1) +\n",
    "                   (inputs_to_bottom_hidden * self.output1_w2))\n",
    "        output2 = ((inputs_to_top_hidden * self.output2_w1) +\n",
    "                    (inputs_to_bottom_hidden * self.output2_w2))\n",
    "        output3 = ((inputs_to_top_hidden * self.output3_w1) +\n",
    "                    (inputs_to_bottom_hidden * self.output3_w2))\n",
    "        output4 = ((inputs_to_top_hidden * self.output4_w1) +\n",
    "                    (inputs_to_bottom_hidden * self.output4_w2))\n",
    "        output_presoftmax = torch.stack([output1, output2, output3, output4])\n",
    "        return output_presoftmax\n",
    "    def configure_optimizers(self):\n",
    "        return Adam(self.parameters(), lr=0.1)\n",
    "    def training_step(self, batch, batch_idx):\n",
    "        input_i, label_i = batch\n",
    "        output_i = self.forward(input_i)\n",
    "        loss = self.loss(output_i, label_i[0])\n",
    "        return loss\n",
    "    \n",
    "        "
   ]
  },
  {
   "cell_type": "code",
   "execution_count": 4,
   "metadata": {},
   "outputs": [
    {
     "name": "stdout",
     "output_type": "stream",
     "text": [
      "Before otimization, the parameters are:\n",
      "input1_w1 tensor(-0.3504)\n",
      "input1_w2 tensor(0.2066)\n",
      "input2_w1 tensor(0.4860)\n",
      "input2_w2 tensor(0.0998)\n",
      "input3_w1 tensor(-0.2318)\n",
      "input3_w2 tensor(-0.2018)\n",
      "input4_w1 tensor(0.4109)\n",
      "input4_w2 tensor(-0.0270)\n",
      "output1_w1 tensor(0.3618)\n",
      "output1_w2 tensor(0.3567)\n",
      "output2_w1 tensor(0.1288)\n",
      "output2_w2 tensor(-0.2462)\n",
      "output3_w1 tensor(0.0021)\n",
      "output3_w2 tensor(-0.1256)\n",
      "output4_w1 tensor(-0.4335)\n",
      "output4_w2 tensor(-0.4025)\n"
     ]
    }
   ],
   "source": [
    "model = WordEmbedding()\n",
    "print(\"Before otimization, the parameters are:\")\n",
    "for name, param in model.named_parameters():\n",
    "    print(name, param.data)"
   ]
  },
  {
   "cell_type": "code",
   "execution_count": 5,
   "metadata": {},
   "outputs": [
    {
     "data": {
      "text/html": [
       "<div>\n",
       "<style scoped>\n",
       "    .dataframe tbody tr th:only-of-type {\n",
       "        vertical-align: middle;\n",
       "    }\n",
       "\n",
       "    .dataframe tbody tr th {\n",
       "        vertical-align: top;\n",
       "    }\n",
       "\n",
       "    .dataframe thead th {\n",
       "        text-align: right;\n",
       "    }\n",
       "</style>\n",
       "<table border=\"1\" class=\"dataframe\">\n",
       "  <thead>\n",
       "    <tr style=\"text-align: right;\">\n",
       "      <th></th>\n",
       "      <th>w1</th>\n",
       "      <th>w2</th>\n",
       "      <th>token</th>\n",
       "      <th>input</th>\n",
       "    </tr>\n",
       "  </thead>\n",
       "  <tbody>\n",
       "    <tr>\n",
       "      <th>0</th>\n",
       "      <td>-0.350419</td>\n",
       "      <td>0.206636</td>\n",
       "      <td>RDR2</td>\n",
       "      <td>input1</td>\n",
       "    </tr>\n",
       "    <tr>\n",
       "      <th>1</th>\n",
       "      <td>0.485983</td>\n",
       "      <td>0.099795</td>\n",
       "      <td>is</td>\n",
       "      <td>input2</td>\n",
       "    </tr>\n",
       "    <tr>\n",
       "      <th>2</th>\n",
       "      <td>-0.231784</td>\n",
       "      <td>-0.201773</td>\n",
       "      <td>great</td>\n",
       "      <td>input3</td>\n",
       "    </tr>\n",
       "    <tr>\n",
       "      <th>3</th>\n",
       "      <td>0.410925</td>\n",
       "      <td>-0.026985</td>\n",
       "      <td>GTAV</td>\n",
       "      <td>input4</td>\n",
       "    </tr>\n",
       "  </tbody>\n",
       "</table>\n",
       "</div>"
      ],
      "text/plain": [
       "         w1        w2  token   input\n",
       "0 -0.350419  0.206636   RDR2  input1\n",
       "1  0.485983  0.099795     is  input2\n",
       "2 -0.231784 -0.201773  great  input3\n",
       "3  0.410925 -0.026985   GTAV  input4"
      ]
     },
     "execution_count": 5,
     "metadata": {},
     "output_type": "execute_result"
    }
   ],
   "source": [
    "data = {\n",
    "    \"w1\": [model.input1_w1.item(), \n",
    "           model.input2_w1.item(), \n",
    "           model.input3_w1.item(), \n",
    "           model.input4_w1.item()],\n",
    "    \"w2\": [model.input1_w2.item(),\n",
    "           model.input2_w2.item(),\n",
    "           model.input3_w2.item(),\n",
    "           model.input4_w2.item()],\n",
    "    \"token\": [\"RDR2\", \"is\", \"great\", \"GTAV\"],\n",
    "    \"input\": [\"input1\", \"input2\", \"input3\", \"input4\"]\n",
    "}\n",
    "df = pd.DataFrame(data)\n",
    "df"
   ]
  },
  {
   "cell_type": "code",
   "execution_count": 6,
   "metadata": {},
   "outputs": [
    {
     "data": {
      "image/png": "[encoded data removed]",
      "text/plain": [
       "<Figure size 640x480 with 1 Axes>"
      ]
     },
     "metadata": {},
     "output_type": "display_data"
    }
   ],
   "source": [
    "import matplotlib.pyplot as plt\n",
    "\n",
    "sns.scatterplot(data=df, x=\"w1\", y=\"w2\")\n",
    "plt.text(df.w1[0], df.w2[0], df.token[0],\n",
    "         horizontalalignment='left', size='medium', color='black', weight='semibold')\n",
    "plt.text(df.w1[1], df.w2[1], df.token[1],\n",
    "         horizontalalignment='left', size='medium', color='black', weight='semibold')\n",
    "plt.text(df.w1[2], df.w2[2], df.token[2],\n",
    "         horizontalalignment='left', size='medium', color='black', weight='semibold')\n",
    "plt.text(df.w1[3], df.w2[3], df.token[3],\n",
    "         horizontalalignment='left', size='medium', color='black', weight='semibold')\n",
    "plt.show()"
   ]
  },
  {
   "cell_type": "code",
   "execution_count": 7,
   "metadata": {},
   "outputs": [
    {
     "name": "stderr",
     "output_type": "stream",
     "text": [
      "GPU available: True (cuda), used: True\n",
      "TPU available: False, using: 0 TPU cores\n",
      "IPU available: False, using: 0 IPUs\n",
      "HPU available: False, using: 0 HPUs\n",
      "You are using a CUDA device ('NVIDIA GeForce RTX 4060 Laptop GPU') that has Tensor Cores. To properly utilize them, you should set `torch.set_float32_matmul_precision('medium' | 'high')` which will trade-off precision for performance. For more details, read https://pytorch.org/docs/stable/generated/torch.set_float32_matmul_precision.html#torch.set_float32_matmul_precision\n",
      "LOCAL_RANK: 0 - CUDA_VISIBLE_DEVICES: [0]\n",
      "\n",
      "  | Name         | Type             | Params\n",
      "--------------------------------------------------\n",
      "0 | loss         | CrossEntropyLoss | 0     \n",
      "  | other params | n/a              | 16    \n",
      "--------------------------------------------------\n",
      "16        Trainable params\n",
      "0         Non-trainable params\n",
      "16        Total params\n",
      "0.000     Total estimated model params size (MB)\n",
      "c:\\Users\\AezersX\\anaconda3\\envs\\pytorch\\lib\\site-packages\\lightning\\pytorch\\trainer\\connectors\\data_connector.py:441: The 'train_dataloader' does not have many workers which may be a bottleneck. Consider increasing the value of the `num_workers` argument` to `num_workers=15` in the `DataLoader` to improve performance.\n",
      "c:\\Users\\AezersX\\anaconda3\\envs\\pytorch\\lib\\site-packages\\lightning\\pytorch\\loops\\fit_loop.py:293: The number of training batches (4) is smaller than the logging interval Trainer(log_every_n_steps=50). Set a lower value for log_every_n_steps if you want to see logs for the training epoch.\n"
     ]
    },
    {
     "name": "stdout",
     "output_type": "stream",
     "text": [
      "Epoch 99: 100%|██████████| 4/4 [00:00<00:00, 166.97it/s, v_num=13]"
     ]
    },
    {
     "name": "stderr",
     "output_type": "stream",
     "text": [
      "`Trainer.fit` stopped: `max_epochs=100` reached.\n"
     ]
    },
    {
     "name": "stdout",
     "output_type": "stream",
     "text": [
      "Epoch 99: 100%|██████████| 4/4 [00:00<00:00, 123.93it/s, v_num=13]\n"
     ]
    }
   ],
   "source": [
    "trainer = l.Trainer(max_epochs=100)\n",
    "trainer.fit(model, train_dataloaders=dataloader)"
   ]
  },
  {
   "cell_type": "code",
   "execution_count": 8,
   "metadata": {},
   "outputs": [
    {
     "data": {
      "text/html": [
       "<div>\n",
       "<style scoped>\n",
       "    .dataframe tbody tr th:only-of-type {\n",
       "        vertical-align: middle;\n",
       "    }\n",
       "\n",
       "    .dataframe tbody tr th {\n",
       "        vertical-align: top;\n",
       "    }\n",
       "\n",
       "    .dataframe thead th {\n",
       "        text-align: right;\n",
       "    }\n",
       "</style>\n",
       "<table border=\"1\" class=\"dataframe\">\n",
       "  <thead>\n",
       "    <tr style=\"text-align: right;\">\n",
       "      <th></th>\n",
       "      <th>w1</th>\n",
       "      <th>w2</th>\n",
       "      <th>token</th>\n",
       "      <th>input</th>\n",
       "    </tr>\n",
       "  </thead>\n",
       "  <tbody>\n",
       "    <tr>\n",
       "      <th>0</th>\n",
       "      <td>-1.489533</td>\n",
       "      <td>1.879944</td>\n",
       "      <td>RDR2</td>\n",
       "      <td>input1</td>\n",
       "    </tr>\n",
       "    <tr>\n",
       "      <th>1</th>\n",
       "      <td>2.372785</td>\n",
       "      <td>-1.348690</td>\n",
       "      <td>is</td>\n",
       "      <td>input2</td>\n",
       "    </tr>\n",
       "    <tr>\n",
       "      <th>2</th>\n",
       "      <td>-1.862550</td>\n",
       "      <td>-1.823253</td>\n",
       "      <td>great</td>\n",
       "      <td>input3</td>\n",
       "    </tr>\n",
       "    <tr>\n",
       "      <th>3</th>\n",
       "      <td>-1.316438</td>\n",
       "      <td>2.026536</td>\n",
       "      <td>GTAV</td>\n",
       "      <td>input4</td>\n",
       "    </tr>\n",
       "  </tbody>\n",
       "</table>\n",
       "</div>"
      ],
      "text/plain": [
       "         w1        w2  token   input\n",
       "0 -1.489533  1.879944   RDR2  input1\n",
       "1  2.372785 -1.348690     is  input2\n",
       "2 -1.862550 -1.823253  great  input3\n",
       "3 -1.316438  2.026536   GTAV  input4"
      ]
     },
     "execution_count": 8,
     "metadata": {},
     "output_type": "execute_result"
    }
   ],
   "source": [
    "data = {\n",
    "    \"w1\": [model.input1_w1.item(), \n",
    "           model.input2_w1.item(), \n",
    "           model.input3_w1.item(), \n",
    "           model.input4_w1.item()],\n",
    "    \"w2\": [model.input1_w2.item(),\n",
    "           model.input2_w2.item(),\n",
    "           model.input3_w2.item(),\n",
    "           model.input4_w2.item()],\n",
    "    \"token\": [\"RDR2\", \"is\", \"great\", \"GTAV\"],\n",
    "    \"input\": [\"input1\", \"input2\", \"input3\", \"input4\"]\n",
    "}\n",
    "df = pd.DataFrame(data)\n",
    "df"
   ]
  },
  {
   "cell_type": "code",
   "execution_count": 9,
   "metadata": {},
   "outputs": [
    {
     "data": {
      "image/png": "[encoded data removed]",
      "text/plain": [
       "<Figure size 640x480 with 1 Axes>"
      ]
     },
     "metadata": {},
     "output_type": "display_data"
    }
   ],
   "source": [
    "import matplotlib.pyplot as plt\n",
    "\n",
    "# graph\n",
    "sns.scatterplot(data=df, x=\"w1\", y=\"w2\")\n",
    "plt.text(df.w1[0], df.w2[0], df.token[0],\n",
    "         horizontalalignment='left', size='medium', color='black', weight='semibold')\n",
    "plt.text(df.w1[1], df.w2[1], df.token[1],\n",
    "         horizontalalignment='left', size='medium', color='black', weight='semibold')\n",
    "plt.text(df.w1[2], df.w2[2], df.token[2],\n",
    "         horizontalalignment='left', size='medium', color='black', weight='semibold')\n",
    "plt.text(df.w1[3], df.w2[3], df.token[3],\n",
    "         horizontalalignment='left', size='medium', color='black', weight='semibold')\n",
    "plt.show()\n"
   ]
  },
  {
   "cell_type": "code",
   "execution_count": 10,
   "metadata": {},
   "outputs": [
    {
     "name": "stdout",
     "output_type": "stream",
     "text": [
      "tensor([0., 1., 0., 0.], grad_fn=<RoundBackward1>)\n",
      "tensor([0., 0., 1., 0.], grad_fn=<RoundBackward1>)\n",
      "tensor([0., 0., 0., 1.], grad_fn=<RoundBackward1>)\n",
      "tensor([0., 1., 0., 0.], grad_fn=<RoundBackward1>)\n"
     ]
    }
   ],
   "source": [
    "softmax = nn.Softmax(dim=0)\n",
    "print(torch.round(softmax(model(torch.tensor([[1.,0.,0.,0.]]))),\n",
    "      decimals=2))\n",
    "print(torch.round(softmax(model(torch.tensor([[0.,1.,0.,0.]]))),\n",
    "        decimals=2))\n",
    "print(torch.round(softmax(model(torch.tensor([[0.,0.,1.,0.]]))),\n",
    "        decimals=2))\n",
    "print(torch.round(softmax(model(torch.tensor([[0.,0.,0.,1.]]))),\n",
    "        decimals=2))\n"
   ]
  },
  {
   "cell_type": "code",
   "execution_count": 11,
   "metadata": {},
   "outputs": [],
   "source": [
    "class WordEmbeddingLinear(l.LightningModule):\n",
    "\n",
    "    def __init__(self):\n",
    "        \n",
    "        super().__init__()\n",
    "        l.seed_everything(seed=42)\n",
    "        self.input_to_hidden = nn.Linear(in_features=4, out_features=2, bias=False)\n",
    "        self.hidden_to_output = nn.Linear(in_features=2, out_features=4, bias=False)\n",
    "        self.loss = nn.CrossEntropyLoss()\n",
    "        \n",
    "        \n",
    "    def forward(self, input): \n",
    "        hidden = self.input_to_hidden(input)\n",
    "        output_values = self.hidden_to_output(hidden)\n",
    "                \n",
    "        return(output_values)\n",
    "        \n",
    "        \n",
    "    def configure_optimizers(self): \n",
    "        \n",
    "        return Adam(self.parameters(), lr=0.1)\n",
    "\n",
    "    \n",
    "    def training_step(self, batch, batch_idx): \n",
    "        \n",
    "        input_i, label_i = batch \n",
    "        output_i = self.forward(input_i)\n",
    "        loss = self.loss(output_i, label_i)\n",
    "        return loss"
   ]
  },
  {
   "cell_type": "code",
   "execution_count": 12,
   "metadata": {},
   "outputs": [
    {
     "name": "stderr",
     "output_type": "stream",
     "text": [
      "Seed set to 42\n"
     ]
    },
    {
     "name": "stdout",
     "output_type": "stream",
     "text": [
      "Before otimization, the parameters are:\n",
      "input_to_hidden.weight tensor([[ 0.3823,  0.4150, -0.1171,  0.4593],\n",
      "        [-0.1096,  0.1009, -0.2434,  0.2936]])\n",
      "hidden_to_output.weight tensor([[ 0.6233, -0.5188],\n",
      "        [ 0.6146,  0.1323],\n",
      "        [ 0.5224,  0.0958],\n",
      "        [ 0.3410, -0.0998]])\n"
     ]
    }
   ],
   "source": [
    "modellinear = WordEmbeddingLinear()\n",
    "print(\"Before otimization, the parameters are:\")\n",
    "for name, param in modellinear.named_parameters():\n",
    "    print(name, param.data)"
   ]
  },
  {
   "cell_type": "code",
   "execution_count": 15,
   "metadata": {},
   "outputs": [
    {
     "data": {
      "text/html": [
       "<div>\n",
       "<style scoped>\n",
       "    .dataframe tbody tr th:only-of-type {\n",
       "        vertical-align: middle;\n",
       "    }\n",
       "\n",
       "    .dataframe tbody tr th {\n",
       "        vertical-align: top;\n",
       "    }\n",
       "\n",
       "    .dataframe thead th {\n",
       "        text-align: right;\n",
       "    }\n",
       "</style>\n",
       "<table border=\"1\" class=\"dataframe\">\n",
       "  <thead>\n",
       "    <tr style=\"text-align: right;\">\n",
       "      <th></th>\n",
       "      <th>w1</th>\n",
       "      <th>w2</th>\n",
       "      <th>token</th>\n",
       "      <th>input</th>\n",
       "    </tr>\n",
       "  </thead>\n",
       "  <tbody>\n",
       "    <tr>\n",
       "      <th>0</th>\n",
       "      <td>0.382269</td>\n",
       "      <td>-0.109552</td>\n",
       "      <td>RDR2</td>\n",
       "      <td>input1</td>\n",
       "    </tr>\n",
       "    <tr>\n",
       "      <th>1</th>\n",
       "      <td>0.415004</td>\n",
       "      <td>0.100895</td>\n",
       "      <td>is</td>\n",
       "      <td>input2</td>\n",
       "    </tr>\n",
       "    <tr>\n",
       "      <th>2</th>\n",
       "      <td>-0.117136</td>\n",
       "      <td>-0.243428</td>\n",
       "      <td>great</td>\n",
       "      <td>input3</td>\n",
       "    </tr>\n",
       "    <tr>\n",
       "      <th>3</th>\n",
       "      <td>0.459306</td>\n",
       "      <td>0.293641</td>\n",
       "      <td>GTAV</td>\n",
       "      <td>input4</td>\n",
       "    </tr>\n",
       "  </tbody>\n",
       "</table>\n",
       "</div>"
      ],
      "text/plain": [
       "         w1        w2  token   input\n",
       "0  0.382269 -0.109552   RDR2  input1\n",
       "1  0.415004  0.100895     is  input2\n",
       "2 -0.117136 -0.243428  great  input3\n",
       "3  0.459306  0.293641   GTAV  input4"
      ]
     },
     "execution_count": 15,
     "metadata": {},
     "output_type": "execute_result"
    }
   ],
   "source": [
    "data = {\n",
    "    \"w1\": modellinear.input_to_hidden.weight.detach()[0].numpy(),\n",
    "    \"w2\": modellinear.input_to_hidden.weight.detach()[1].numpy(),\n",
    "    \"token\": [\"RDR2\", \"is\", \"great\", \"GTAV\"],\n",
    "    \"input\": [\"input1\", \"input2\", \"input3\", \"input4\"]\n",
    "}\n",
    "dfa = pd.DataFrame(data)\n",
    "dfa"
   ]
  },
  {
   "cell_type": "code",
   "execution_count": 17,
   "metadata": {},
   "outputs": [
    {
     "data": {
      "image/png": "[encoded data removed]",
      "text/plain": [
       "<Figure size 640x480 with 1 Axes>"
      ]
     },
     "metadata": {},
     "output_type": "display_data"
    }
   ],
   "source": [
    "sns.scatterplot(data=dfa, x=\"w1\", y=\"w2\")\n",
    "plt.text(dfa.w1[0], dfa.w2[0], dfa.token[0],\n",
    "         horizontalalignment='left', size='medium', color='black', weight='semibold')\n",
    "plt.text(dfa.w1[1], dfa.w2[1], dfa.token[1],\n",
    "            horizontalalignment='left', size='medium', color='black', weight='semibold')\n",
    "plt.text(dfa.w1[2], dfa.w2[2], dfa.token[2],\n",
    "            horizontalalignment='left', size='medium', color='black', weight='semibold')\n",
    "plt.text(dfa.w1[3], dfa.w2[3], dfa.token[3],\n",
    "            horizontalalignment='left', size='medium', color='black', weight='semibold')\n",
    "plt.show()"
   ]
  },
  {
   "cell_type": "code",
   "execution_count": 18,
   "metadata": {},
   "outputs": [
    {
     "name": "stderr",
     "output_type": "stream",
     "text": [
      "GPU available: True (cuda), used: True\n",
      "TPU available: False, using: 0 TPU cores\n",
      "IPU available: False, using: 0 IPUs\n",
      "HPU available: False, using: 0 HPUs\n",
      "LOCAL_RANK: 0 - CUDA_VISIBLE_DEVICES: [0]\n",
      "\n",
      "  | Name             | Type             | Params\n",
      "------------------------------------------------------\n",
      "0 | input_to_hidden  | Linear           | 8     \n",
      "1 | hidden_to_output | Linear           | 8     \n",
      "2 | loss             | CrossEntropyLoss | 0     \n",
      "------------------------------------------------------\n",
      "16        Trainable params\n",
      "0         Non-trainable params\n",
      "16        Total params\n",
      "0.000     Total estimated model params size (MB)\n",
      "c:\\Users\\AezersX\\anaconda3\\envs\\pytorch\\lib\\site-packages\\lightning\\pytorch\\trainer\\connectors\\data_connector.py:441: The 'train_dataloader' does not have many workers which may be a bottleneck. Consider increasing the value of the `num_workers` argument` to `num_workers=15` in the `DataLoader` to improve performance.\n",
      "c:\\Users\\AezersX\\anaconda3\\envs\\pytorch\\lib\\site-packages\\lightning\\pytorch\\loops\\fit_loop.py:293: The number of training batches (4) is smaller than the logging interval Trainer(log_every_n_steps=50). Set a lower value for log_every_n_steps if you want to see logs for the training epoch.\n"
     ]
    },
    {
     "name": "stdout",
     "output_type": "stream",
     "text": [
      "Epoch 99: 100%|██████████| 4/4 [00:00<00:00, 246.85it/s, v_num=14]"
     ]
    },
    {
     "name": "stderr",
     "output_type": "stream",
     "text": [
      "`Trainer.fit` stopped: `max_epochs=100` reached.\n"
     ]
    },
    {
     "name": "stdout",
     "output_type": "stream",
     "text": [
      "Epoch 99: 100%|██████████| 4/4 [00:00<00:00, 185.25it/s, v_num=14]\n"
     ]
    }
   ],
   "source": [
    "trainer = l.Trainer(max_epochs=100)\n",
    "trainer.fit(modellinear, train_dataloaders=dataloader)\n"
   ]
  },
  {
   "cell_type": "code",
   "execution_count": 19,
   "metadata": {},
   "outputs": [
    {
     "name": "stdout",
     "output_type": "stream",
     "text": [
      "After optimization, the parameters are...\n",
      "input_to_hidden.weight tensor([[ 2.5104, -1.0176, -1.9742,  2.4355],\n",
      "        [-0.0688,  2.4824, -1.8189, -0.2228]])\n",
      "hidden_to_output.weight tensor([[-0.3022, -1.0102],\n",
      "        [ 3.2008, -0.3850],\n",
      "        [-0.6693,  2.1813],\n",
      "        [-2.6841, -2.9578]])\n"
     ]
    }
   ],
   "source": [
    "print(\"After optimization, the parameters are...\")\n",
    "for name, param in modellinear.named_parameters():\n",
    "    print(name, param.data)"
   ]
  },
  {
   "cell_type": "code",
   "execution_count": 21,
   "metadata": {},
   "outputs": [
    {
     "data": {
      "text/html": [
       "<div>\n",
       "<style scoped>\n",
       "    .dataframe tbody tr th:only-of-type {\n",
       "        vertical-align: middle;\n",
       "    }\n",
       "\n",
       "    .dataframe tbody tr th {\n",
       "        vertical-align: top;\n",
       "    }\n",
       "\n",
       "    .dataframe thead th {\n",
       "        text-align: right;\n",
       "    }\n",
       "</style>\n",
       "<table border=\"1\" class=\"dataframe\">\n",
       "  <thead>\n",
       "    <tr style=\"text-align: right;\">\n",
       "      <th></th>\n",
       "      <th>w1</th>\n",
       "      <th>w2</th>\n",
       "      <th>token</th>\n",
       "      <th>input</th>\n",
       "    </tr>\n",
       "  </thead>\n",
       "  <tbody>\n",
       "    <tr>\n",
       "      <th>0</th>\n",
       "      <td>2.510441</td>\n",
       "      <td>-0.068819</td>\n",
       "      <td>RDR2</td>\n",
       "      <td>input1</td>\n",
       "    </tr>\n",
       "    <tr>\n",
       "      <th>1</th>\n",
       "      <td>-1.017648</td>\n",
       "      <td>2.482439</td>\n",
       "      <td>is</td>\n",
       "      <td>input2</td>\n",
       "    </tr>\n",
       "    <tr>\n",
       "      <th>2</th>\n",
       "      <td>-1.974155</td>\n",
       "      <td>-1.818942</td>\n",
       "      <td>great</td>\n",
       "      <td>input3</td>\n",
       "    </tr>\n",
       "    <tr>\n",
       "      <th>3</th>\n",
       "      <td>2.435518</td>\n",
       "      <td>-0.222802</td>\n",
       "      <td>GTAV</td>\n",
       "      <td>input4</td>\n",
       "    </tr>\n",
       "  </tbody>\n",
       "</table>\n",
       "</div>"
      ],
      "text/plain": [
       "         w1        w2  token   input\n",
       "0  2.510441 -0.068819   RDR2  input1\n",
       "1 -1.017648  2.482439     is  input2\n",
       "2 -1.974155 -1.818942  great  input3\n",
       "3  2.435518 -0.222802   GTAV  input4"
      ]
     },
     "execution_count": 21,
     "metadata": {},
     "output_type": "execute_result"
    }
   ],
   "source": [
    "data = {\n",
    "    \"w1\": modellinear.input_to_hidden.weight.detach()[0].numpy(),\n",
    "    \"w2\": modellinear.input_to_hidden.weight.detach()[1].numpy(),\n",
    "    \"token\": [\"RDR2\", \"is\", \"great\", \"GTAV\"],\n",
    "    \"input\": [\"input1\", \"input2\", \"input3\", \"input4\"]\n",
    "}\n",
    "dfb= pd.DataFrame(data)\n",
    "dfb"
   ]
  },
  {
   "cell_type": "code",
   "execution_count": 22,
   "metadata": {},
   "outputs": [
    {
     "data": {
      "image/png": "[encoded data removed]",
      "text/plain": [
       "<Figure size 640x480 with 1 Axes>"
      ]
     },
     "metadata": {},
     "output_type": "display_data"
    }
   ],
   "source": [
    "\n",
    "sns.scatterplot(data=dfb, x=\"w1\", y=\"w2\")\n",
    "plt.text(dfb.w1[0], dfb.w2[0], dfb.token[0],\n",
    "         horizontalalignment='left', size='medium', color='black', weight='semibold')\n",
    "plt.text(dfb.w1[1], dfb.w2[1], dfb.token[1],\n",
    "            horizontalalignment='left', size='medium', color='black', weight='semibold')\n",
    "plt.text(dfb.w1[2], dfb.w2[2], dfb.token[2],\n",
    "            horizontalalignment='left', size='medium', color='black', weight='semibold')\n",
    "plt.text(dfb.w1[3], dfb.w2[3], dfb.token[3],\n",
    "            horizontalalignment='left', size='medium', color='black', weight='semibold')\n",
    "plt.show()"
   ]
  },
  {
   "cell_type": "markdown",
   "metadata": {},
   "source": [
    "Load embedding model"
   ]
  },
  {
   "cell_type": "code",
   "execution_count": 24,
   "metadata": {},
   "outputs": [],
   "source": [
    "word_embedding = nn.Embedding.from_pretrained(modellinear.input_to_hidden.weight.T)"
   ]
  },
  {
   "cell_type": "code",
   "execution_count": 27,
   "metadata": {},
   "outputs": [
    {
     "data": {
      "text/plain": [
       "tensor([[ 2.5104, -0.0688]])"
      ]
     },
     "execution_count": 27,
     "metadata": {},
     "output_type": "execute_result"
    }
   ],
   "source": [
    "word_embedding(torch.tensor([0]))"
   ]
  },
  {
   "cell_type": "code",
   "execution_count": 28,
   "metadata": {},
   "outputs": [
    {
     "data": {
      "text/plain": [
       "tensor([[ 2.5104, -0.0688]])"
      ]
     },
     "execution_count": 28,
     "metadata": {},
     "output_type": "execute_result"
    }
   ],
   "source": [
    "vocab = {\n",
    "    \"RDR2\": 0,\n",
    "    \"is\": 1,\n",
    "    \"great\": 2,\n",
    "    \"GTAV\": 3\n",
    "}\n",
    "word_embedding(torch.tensor([vocab[\"RDR2\"]]))"
   ]
  },
  {
   "cell_type": "code",
   "execution_count": null,
   "metadata": {},
   "outputs": [],
   "source": []
  }
 ],
 "metadata": {
  "kernelspec": {
   "display_name": "pytorch",
   "language": "python",
   "name": "python3"
  },
  "language_info": {
   "codemirror_mode": {
    "name": "ipython",
    "version": 3
   },
   "file_extension": ".py",
   "mimetype": "text/x-python",
   "name": "python",
   "nbconvert_exporter": "python",
   "pygments_lexer": "ipython3",
   "version": "3.10.13"
  }
 },
 "nbformat": 4,
 "nbformat_minor": 2
}
